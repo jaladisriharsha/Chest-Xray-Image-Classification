{
 "cells": [
  {
   "cell_type": "code",
   "execution_count": 1,
   "metadata": {
    "_cell_guid": "b1076dfc-b9ad-4769-8c92-a6c4dae69d19",
    "_uuid": "8f2839f25d086af736a60e9eeb907d3b93b6e0e5",
    "execution": {
     "iopub.execute_input": "2021-01-02T18:35:19.582055Z",
     "iopub.status.busy": "2021-01-02T18:35:19.580547Z",
     "iopub.status.idle": "2021-01-02T18:35:25.042436Z",
     "shell.execute_reply": "2021-01-02T18:35:25.041196Z"
    },
    "papermill": {
     "duration": 5.486203,
     "end_time": "2021-01-02T18:35:25.042584",
     "exception": false,
     "start_time": "2021-01-02T18:35:19.556381",
     "status": "completed"
    },
    "tags": []
   },
   "outputs": [],
   "source": [
    "import os\n",
    "\n",
    "#import efficientnet.tfkeras as efn\n",
    "import numpy as np\n",
    "import pandas as pd\n",
    "import tensorflow as tf"
   ]
  },
  {
   "cell_type": "code",
   "execution_count": 2,
   "metadata": {
    "_cell_guid": "79c7e3d0-c299-4dcb-8224-4455121ee9b0",
    "_uuid": "d629ff2d2480ee46fbb7e2d37f6b5fab8052498a",
    "execution": {
     "iopub.execute_input": "2021-01-02T18:35:25.084114Z",
     "iopub.status.busy": "2021-01-02T18:35:25.082077Z",
     "iopub.status.idle": "2021-01-02T18:35:25.084843Z",
     "shell.execute_reply": "2021-01-02T18:35:25.085311Z"
    },
    "papermill": {
     "duration": 0.035517,
     "end_time": "2021-01-02T18:35:25.085429",
     "exception": false,
     "start_time": "2021-01-02T18:35:25.049912",
     "status": "completed"
    },
    "tags": []
   },
   "outputs": [],
   "source": [
    "def auto_select_accelerator():\n",
    "    try:\n",
    "        tpu = tf.distribute.cluster_resolver.TPUClusterResolver()\n",
    "        tf.config.experimental_connect_to_cluster(tpu)\n",
    "        tf.tpu.experimental.initialize_tpu_system(tpu)\n",
    "        strategy = tf.distribute.experimental.TPUStrategy(tpu)\n",
    "        print(\"Running on TPU:\", tpu.master())\n",
    "    except ValueError:\n",
    "        strategy = tf.distribute.get_strategy()\n",
    "    print(f\"Running on {strategy.num_replicas_in_sync} replicas\")\n",
    "    \n",
    "    return strategy\n",
    "\n",
    "def build_decoder(with_labels=True, target_size=(300, 300), ext='jpg'):\n",
    "    def decode(path):\n",
    "        file_bytes = tf.io.read_file(path)\n",
    "        if ext == 'png':\n",
    "            img = tf.image.decode_png(file_bytes, channels=3)\n",
    "        elif ext in ['jpg', 'jpeg']:\n",
    "            img = tf.image.decode_jpeg(file_bytes, channels=3)\n",
    "        else:\n",
    "            raise ValueError(\"Image extension not supported\")\n",
    "\n",
    "        img = tf.cast(img, tf.float32) / 255.0\n",
    "        img = tf.image.resize(img, target_size)\n",
    "\n",
    "        return img\n",
    "    \n",
    "    def decode_with_labels(path, label):\n",
    "        return decode(path), label\n",
    "    \n",
    "    return decode_with_labels if with_labels else decode\n",
    "\n",
    "def build_augmenter(with_labels=True):\n",
    "    def augment(img):\n",
    "        img = tf.image.random_flip_left_right(img)\n",
    "        img = tf.image.random_flip_up_down(img)\n",
    "        return img\n",
    "    \n",
    "    def augment_with_labels(img, label):\n",
    "        return augment(img), label\n",
    "    \n",
    "    return augment_with_labels if with_labels else augment\n",
    "\n",
    "def build_dataset(paths, labels=None, bsize=32, cache=True,\n",
    "                  decode_fn=None, augment_fn=None,\n",
    "                  augment=True, repeat=True, shuffle=1024, \n",
    "                  cache_dir=\"\"):\n",
    "    if cache_dir != \"\" and cache is True:\n",
    "        os.makedirs(cache_dir, exist_ok=True)\n",
    "    \n",
    "    if decode_fn is None:\n",
    "        decode_fn = build_decoder(labels is not None)\n",
    "    \n",
    "    if augment_fn is None:\n",
    "        augment_fn = build_augmenter(labels is not None)\n",
    "    \n",
    "    AUTO = tf.data.experimental.AUTOTUNE\n",
    "    slices = paths if labels is None else (paths, labels)\n",
    "    \n",
    "    dset = tf.data.Dataset.from_tensor_slices(slices)\n",
    "    dset = dset.map(decode_fn, num_parallel_calls=AUTO)\n",
    "    dset = dset.cache(cache_dir) if cache else dset\n",
    "    dset = dset.map(augment_fn, num_parallel_calls=AUTO) if augment else dset\n",
    "    dset = dset.repeat() if repeat else dset\n",
    "    dset = dset.shuffle(shuffle) if shuffle else dset\n",
    "    dset = dset.batch(bsize).prefetch(AUTO)\n",
    "    \n",
    "    return dset"
   ]
  },
  {
   "cell_type": "code",
   "execution_count": 3,
   "metadata": {
    "execution": {
     "iopub.execute_input": "2021-01-02T18:35:25.102364Z",
     "iopub.status.busy": "2021-01-02T18:35:25.101807Z",
     "iopub.status.idle": "2021-01-02T18:35:25.113581Z",
     "shell.execute_reply": "2021-01-02T18:35:25.114179Z"
    },
    "papermill": {
     "duration": 0.022367,
     "end_time": "2021-01-02T18:35:25.114305",
     "exception": false,
     "start_time": "2021-01-02T18:35:25.091938",
     "status": "completed"
    },
    "tags": []
   },
   "outputs": [
    {
     "name": "stdout",
     "output_type": "stream",
     "text": [
      "Running on 1 replicas\n"
     ]
    }
   ],
   "source": [
    "COMPETITION_NAME = \"ranzcr-clip-catheter-line-classification\"\n",
    "strategy = auto_select_accelerator()\n",
    "BATCH_SIZE = strategy.num_replicas_in_sync * 16"
   ]
  },
  {
   "cell_type": "code",
   "execution_count": 4,
   "metadata": {
    "execution": {
     "iopub.execute_input": "2021-01-02T18:35:25.140158Z",
     "iopub.status.busy": "2021-01-02T18:35:25.139480Z",
     "iopub.status.idle": "2021-01-02T18:35:28.098030Z",
     "shell.execute_reply": "2021-01-02T18:35:28.097367Z"
    },
    "papermill": {
     "duration": 2.976679,
     "end_time": "2021-01-02T18:35:28.098166",
     "exception": false,
     "start_time": "2021-01-02T18:35:25.121487",
     "status": "completed"
    },
    "tags": []
   },
   "outputs": [],
   "source": [
    "IMSIZE = (224, 240, 260, 300, 380, 456, 528, 600)\n",
    "\n",
    "load_dir = f\"/kaggle/input/{COMPETITION_NAME}/\"\n",
    "sub_df = pd.read_csv(load_dir + 'sample_submission.csv')\n",
    "test_paths = load_dir + \"test/\" + sub_df['StudyInstanceUID'] + '.jpg'\n",
    "\n",
    "# Get the multi-labels\n",
    "label_cols = sub_df.columns[1:]\n",
    "\n",
    "test_decoder = build_decoder(with_labels=False, target_size=(IMSIZE[7], IMSIZE[7]))\n",
    "dtest = build_dataset(\n",
    "    test_paths, bsize=BATCH_SIZE, repeat=False, \n",
    "    shuffle=False, augment=False, cache=False,\n",
    "    decode_fn=test_decoder\n",
    ")"
   ]
  },
  {
   "cell_type": "code",
   "execution_count": 5,
   "metadata": {
    "execution": {
     "iopub.execute_input": "2021-01-02T18:35:28.118082Z",
     "iopub.status.busy": "2021-01-02T18:35:28.117356Z",
     "iopub.status.idle": "2021-01-02T18:35:38.864478Z",
     "shell.execute_reply": "2021-01-02T18:35:38.865080Z"
    },
    "papermill": {
     "duration": 10.759657,
     "end_time": "2021-01-02T18:35:38.865251",
     "exception": false,
     "start_time": "2021-01-02T18:35:28.105594",
     "status": "completed"
    },
    "tags": []
   },
   "outputs": [
    {
     "name": "stdout",
     "output_type": "stream",
     "text": [
      "Model: \"sequential\"\n",
      "_________________________________________________________________\n",
      "Layer (type)                 Output Shape              Param #   \n",
      "=================================================================\n",
      "inception_v3 (Functional)    (None, 17, 17, 2048)      21802784  \n",
      "_________________________________________________________________\n",
      "global_average_pooling2d (Gl (None, 2048)              0         \n",
      "_________________________________________________________________\n",
      "dense (Dense)                (None, 11)                22539     \n",
      "=================================================================\n",
      "Total params: 21,825,323\n",
      "Trainable params: 21,790,891\n",
      "Non-trainable params: 34,432\n",
      "_________________________________________________________________\n"
     ]
    }
   ],
   "source": [
    "with strategy.scope():\n",
    "    model = tf.keras.models.load_model(\n",
    "        '../input/kaggle-inceptionv3-training/model.h5'\n",
    "    )\n",
    "\n",
    "model.summary()"
   ]
  },
  {
   "cell_type": "code",
   "execution_count": 6,
   "metadata": {
    "execution": {
     "iopub.execute_input": "2021-01-02T18:35:38.887395Z",
     "iopub.status.busy": "2021-01-02T18:35:38.886684Z",
     "iopub.status.idle": "2021-01-02T18:40:21.448542Z",
     "shell.execute_reply": "2021-01-02T18:40:21.449085Z"
    },
    "papermill": {
     "duration": 282.575344,
     "end_time": "2021-01-02T18:40:21.449271",
     "exception": false,
     "start_time": "2021-01-02T18:35:38.873927",
     "status": "completed"
    },
    "tags": []
   },
   "outputs": [
    {
     "name": "stdout",
     "output_type": "stream",
     "text": [
      "224/224 [==============================] - 274s 1s/step\n"
     ]
    },
    {
     "data": {
      "text/html": [
       "<div>\n",
       "<style scoped>\n",
       "    .dataframe tbody tr th:only-of-type {\n",
       "        vertical-align: middle;\n",
       "    }\n",
       "\n",
       "    .dataframe tbody tr th {\n",
       "        vertical-align: top;\n",
       "    }\n",
       "\n",
       "    .dataframe thead th {\n",
       "        text-align: right;\n",
       "    }\n",
       "</style>\n",
       "<table border=\"1\" class=\"dataframe\">\n",
       "  <thead>\n",
       "    <tr style=\"text-align: right;\">\n",
       "      <th></th>\n",
       "      <th>StudyInstanceUID</th>\n",
       "      <th>ETT - Abnormal</th>\n",
       "      <th>ETT - Borderline</th>\n",
       "      <th>ETT - Normal</th>\n",
       "      <th>NGT - Abnormal</th>\n",
       "      <th>NGT - Borderline</th>\n",
       "      <th>NGT - Incompletely Imaged</th>\n",
       "      <th>NGT - Normal</th>\n",
       "      <th>CVC - Abnormal</th>\n",
       "      <th>CVC - Borderline</th>\n",
       "      <th>CVC - Normal</th>\n",
       "      <th>Swan Ganz Catheter Present</th>\n",
       "    </tr>\n",
       "  </thead>\n",
       "  <tbody>\n",
       "    <tr>\n",
       "      <th>0</th>\n",
       "      <td>1.2.826.0.1.3680043.8.498.46923145579096002617...</td>\n",
       "      <td>0.014298</td>\n",
       "      <td>0.347485</td>\n",
       "      <td>0.579060</td>\n",
       "      <td>0.000049</td>\n",
       "      <td>0.000338</td>\n",
       "      <td>9.559282e-04</td>\n",
       "      <td>0.999193</td>\n",
       "      <td>0.010415</td>\n",
       "      <td>0.089443</td>\n",
       "      <td>0.971913</td>\n",
       "      <td>0.999966</td>\n",
       "    </tr>\n",
       "    <tr>\n",
       "      <th>1</th>\n",
       "      <td>1.2.826.0.1.3680043.8.498.84006870182611080091...</td>\n",
       "      <td>0.000495</td>\n",
       "      <td>0.000913</td>\n",
       "      <td>0.000352</td>\n",
       "      <td>0.000364</td>\n",
       "      <td>0.000241</td>\n",
       "      <td>2.214533e-04</td>\n",
       "      <td>0.000047</td>\n",
       "      <td>0.006172</td>\n",
       "      <td>0.005924</td>\n",
       "      <td>0.993768</td>\n",
       "      <td>0.000050</td>\n",
       "    </tr>\n",
       "    <tr>\n",
       "      <th>2</th>\n",
       "      <td>1.2.826.0.1.3680043.8.498.12219033294413119947...</td>\n",
       "      <td>0.000223</td>\n",
       "      <td>0.000391</td>\n",
       "      <td>0.000251</td>\n",
       "      <td>0.003509</td>\n",
       "      <td>0.001942</td>\n",
       "      <td>1.684024e-04</td>\n",
       "      <td>0.000292</td>\n",
       "      <td>0.004183</td>\n",
       "      <td>0.227381</td>\n",
       "      <td>0.779032</td>\n",
       "      <td>0.000046</td>\n",
       "    </tr>\n",
       "    <tr>\n",
       "      <th>3</th>\n",
       "      <td>1.2.826.0.1.3680043.8.498.84994474380235968109...</td>\n",
       "      <td>0.003052</td>\n",
       "      <td>0.000471</td>\n",
       "      <td>0.000915</td>\n",
       "      <td>0.011904</td>\n",
       "      <td>0.006753</td>\n",
       "      <td>9.540262e-01</td>\n",
       "      <td>0.028275</td>\n",
       "      <td>0.034781</td>\n",
       "      <td>0.053255</td>\n",
       "      <td>0.985345</td>\n",
       "      <td>0.000840</td>\n",
       "    </tr>\n",
       "    <tr>\n",
       "      <th>4</th>\n",
       "      <td>1.2.826.0.1.3680043.8.498.35798987793805669662...</td>\n",
       "      <td>0.000272</td>\n",
       "      <td>0.000703</td>\n",
       "      <td>0.000149</td>\n",
       "      <td>0.000135</td>\n",
       "      <td>0.000168</td>\n",
       "      <td>2.848229e-07</td>\n",
       "      <td>0.000313</td>\n",
       "      <td>0.004934</td>\n",
       "      <td>0.012154</td>\n",
       "      <td>0.991254</td>\n",
       "      <td>0.000014</td>\n",
       "    </tr>\n",
       "  </tbody>\n",
       "</table>\n",
       "</div>"
      ],
      "text/plain": [
       "                                    StudyInstanceUID  ETT - Abnormal  \\\n",
       "0  1.2.826.0.1.3680043.8.498.46923145579096002617...        0.014298   \n",
       "1  1.2.826.0.1.3680043.8.498.84006870182611080091...        0.000495   \n",
       "2  1.2.826.0.1.3680043.8.498.12219033294413119947...        0.000223   \n",
       "3  1.2.826.0.1.3680043.8.498.84994474380235968109...        0.003052   \n",
       "4  1.2.826.0.1.3680043.8.498.35798987793805669662...        0.000272   \n",
       "\n",
       "   ETT - Borderline  ETT - Normal  NGT - Abnormal  NGT - Borderline  \\\n",
       "0          0.347485      0.579060        0.000049          0.000338   \n",
       "1          0.000913      0.000352        0.000364          0.000241   \n",
       "2          0.000391      0.000251        0.003509          0.001942   \n",
       "3          0.000471      0.000915        0.011904          0.006753   \n",
       "4          0.000703      0.000149        0.000135          0.000168   \n",
       "\n",
       "   NGT - Incompletely Imaged  NGT - Normal  CVC - Abnormal  CVC - Borderline  \\\n",
       "0               9.559282e-04      0.999193        0.010415          0.089443   \n",
       "1               2.214533e-04      0.000047        0.006172          0.005924   \n",
       "2               1.684024e-04      0.000292        0.004183          0.227381   \n",
       "3               9.540262e-01      0.028275        0.034781          0.053255   \n",
       "4               2.848229e-07      0.000313        0.004934          0.012154   \n",
       "\n",
       "   CVC - Normal  Swan Ganz Catheter Present  \n",
       "0      0.971913                    0.999966  \n",
       "1      0.993768                    0.000050  \n",
       "2      0.779032                    0.000046  \n",
       "3      0.985345                    0.000840  \n",
       "4      0.991254                    0.000014  "
      ]
     },
     "execution_count": 6,
     "metadata": {},
     "output_type": "execute_result"
    }
   ],
   "source": [
    "sub_df[label_cols] = model.predict(dtest, verbose=1)\n",
    "sub_df.to_csv('submission.csv', index=False)\n",
    "\n",
    "sub_df.head()"
   ]
  },
  {
   "cell_type": "code",
   "execution_count": null,
   "metadata": {
    "papermill": {
     "duration": 0.094068,
     "end_time": "2021-01-02T18:40:21.635369",
     "exception": false,
     "start_time": "2021-01-02T18:40:21.541301",
     "status": "completed"
    },
    "tags": []
   },
   "outputs": [],
   "source": []
  }
 ],
 "metadata": {
  "kernelspec": {
   "display_name": "Python 3",
   "language": "python",
   "name": "python3"
  },
  "language_info": {
   "codemirror_mode": {
    "name": "ipython",
    "version": 3
   },
   "file_extension": ".py",
   "mimetype": "text/x-python",
   "name": "python",
   "nbconvert_exporter": "python",
   "pygments_lexer": "ipython3",
   "version": "3.7.6"
  },
  "papermill": {
   "duration": 308.015452,
   "end_time": "2021-01-02T18:40:22.919275",
   "environment_variables": {},
   "exception": null,
   "input_path": "__notebook__.ipynb",
   "output_path": "__notebook__.ipynb",
   "parameters": {},
   "start_time": "2021-01-02T18:35:14.903823",
   "version": "2.1.0"
  }
 },
 "nbformat": 4,
 "nbformat_minor": 4
}
