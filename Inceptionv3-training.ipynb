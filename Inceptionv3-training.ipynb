{
 "cells": [
  {
   "cell_type": "code",
   "execution_count": 1,
   "metadata": {
    "_cell_guid": "79c7e3d0-c299-4dcb-8224-4455121ee9b0",
    "_uuid": "d629ff2d2480ee46fbb7e2d37f6b5fab8052498a",
    "execution": {
     "iopub.execute_input": "2021-01-02T14:19:18.649839Z",
     "iopub.status.busy": "2021-01-02T14:19:18.648739Z",
     "iopub.status.idle": "2021-01-02T14:19:25.949942Z",
     "shell.execute_reply": "2021-01-02T14:19:25.949231Z"
    },
    "papermill": {
     "duration": 7.314053,
     "end_time": "2021-01-02T14:19:25.950078",
     "exception": false,
     "start_time": "2021-01-02T14:19:18.636025",
     "status": "completed"
    },
    "tags": []
   },
   "outputs": [],
   "source": [
    "import os\n",
    "\n",
    "import numpy as np\n",
    "import pandas as pd\n",
    "from kaggle_datasets import KaggleDatasets\n",
    "from sklearn.model_selection import train_test_split\n",
    "import tensorflow as tf"
   ]
  },
  {
   "cell_type": "code",
   "execution_count": 2,
   "metadata": {
    "execution": {
     "iopub.execute_input": "2021-01-02T14:19:25.971675Z",
     "iopub.status.busy": "2021-01-02T14:19:25.970917Z",
     "iopub.status.idle": "2021-01-02T14:19:25.994577Z",
     "shell.execute_reply": "2021-01-02T14:19:25.995121Z"
    },
    "papermill": {
     "duration": 0.035773,
     "end_time": "2021-01-02T14:19:25.995294",
     "exception": false,
     "start_time": "2021-01-02T14:19:25.959521",
     "status": "completed"
    },
    "tags": []
   },
   "outputs": [],
   "source": [
    "def auto_select_accelerator():\n",
    "    \"\"\"\n",
    "    Reference: \n",
    "        * https://www.kaggle.com/mgornergoogle/getting-started-with-100-flowers-on-tpu\n",
    "        * https://www.kaggle.com/xhlulu/ranzcr-efficientnet-tpu-training\n",
    "    \"\"\"\n",
    "    try:\n",
    "        tpu = tf.distribute.cluster_resolver.TPUClusterResolver()\n",
    "        tf.config.experimental_connect_to_cluster(tpu)\n",
    "        tf.tpu.experimental.initialize_tpu_system(tpu)\n",
    "        strategy = tf.distribute.experimental.TPUStrategy(tpu)\n",
    "        print(\"Running on TPU:\", tpu.master())\n",
    "    except ValueError:\n",
    "        strategy = tf.distribute.get_strategy()\n",
    "    print(f\"Running on {strategy.num_replicas_in_sync} replicas\")\n",
    "    \n",
    "    return strategy\n",
    "def build_decoder(with_labels=True, target_size=(256, 256), ext='jpg'):\n",
    "    def decode(path):\n",
    "        file_bytes = tf.io.read_file(path)\n",
    "        if ext == 'png':\n",
    "            img = tf.image.decode_png(file_bytes, channels=3)\n",
    "        elif ext in ['jpg', 'jpeg']:\n",
    "            img = tf.image.decode_jpeg(file_bytes, channels=3)\n",
    "        else:\n",
    "            raise ValueError(\"Image extension not supported\")\n",
    "\n",
    "        img = tf.cast(img, tf.float32) / 255.0\n",
    "        img = tf.image.resize(img, target_size)\n",
    "\n",
    "        return img\n",
    "    \n",
    "    def decode_with_labels(path, label):\n",
    "        return decode(path), label\n",
    "    \n",
    "    return decode_with_labels if with_labels else decode\n",
    "\n",
    "\n",
    "def build_augmenter(with_labels=True):\n",
    "    def augment(img):\n",
    "        img = tf.image.random_flip_left_right(img)\n",
    "        img = tf.image.random_flip_up_down(img)\n",
    "        return img\n",
    "    \n",
    "    def augment_with_labels(img, label):\n",
    "        return augment(img), label\n",
    "    \n",
    "    return augment_with_labels if with_labels else augment\n",
    "\n",
    "def build_dataset(paths, labels=None, bsize=32, cache=True,\n",
    "                  decode_fn=None, augment_fn=None,\n",
    "                  augment=True, repeat=True, shuffle=1024, \n",
    "                  cache_dir=\"\"):\n",
    "    if cache_dir != \"\" and cache is True:\n",
    "        os.makedirs(cache_dir, exist_ok=True)\n",
    "    \n",
    "    if decode_fn is None:\n",
    "        decode_fn = build_decoder(labels is not None)\n",
    "    \n",
    "    if augment_fn is None:\n",
    "        augment_fn = build_augmenter(labels is not None)\n",
    "    \n",
    "    AUTO = tf.data.experimental.AUTOTUNE\n",
    "    slices = paths if labels is None else (paths, labels)\n",
    "    \n",
    "    dset = tf.data.Dataset.from_tensor_slices(slices)\n",
    "    dset = dset.map(decode_fn, num_parallel_calls=AUTO)\n",
    "    dset = dset.cache(cache_dir) if cache else dset\n",
    "    dset = dset.map(augment_fn, num_parallel_calls=AUTO) if augment else dset\n",
    "    dset = dset.repeat() if repeat else dset\n",
    "    dset = dset.shuffle(shuffle) if shuffle else dset\n",
    "    dset = dset.batch(bsize).prefetch(AUTO)\n",
    "    \n",
    "    return dset"
   ]
  },
  {
   "cell_type": "code",
   "execution_count": 3,
   "metadata": {
    "execution": {
     "iopub.execute_input": "2021-01-02T14:19:26.017058Z",
     "iopub.status.busy": "2021-01-02T14:19:26.016286Z",
     "iopub.status.idle": "2021-01-02T14:19:31.169636Z",
     "shell.execute_reply": "2021-01-02T14:19:31.168975Z"
    },
    "papermill": {
     "duration": 5.165237,
     "end_time": "2021-01-02T14:19:31.169753",
     "exception": false,
     "start_time": "2021-01-02T14:19:26.004516",
     "status": "completed"
    },
    "tags": []
   },
   "outputs": [
    {
     "name": "stdout",
     "output_type": "stream",
     "text": [
      "Running on TPU: grpc://10.0.0.2:8470\n",
      "Running on 8 replicas\n"
     ]
    }
   ],
   "source": [
    "COMPETITION_NAME = \"ranzcr-clip-catheter-line-classification\"\n",
    "strategy = auto_select_accelerator()\n",
    "BATCH_SIZE = strategy.num_replicas_in_sync * 16\n",
    "GCS_DS_PATH = KaggleDatasets().get_gcs_path(COMPETITION_NAME)"
   ]
  },
  {
   "cell_type": "code",
   "execution_count": 4,
   "metadata": {
    "execution": {
     "iopub.execute_input": "2021-01-02T14:19:31.201414Z",
     "iopub.status.busy": "2021-01-02T14:19:31.200667Z",
     "iopub.status.idle": "2021-01-02T14:19:31.399672Z",
     "shell.execute_reply": "2021-01-02T14:19:31.399088Z"
    },
    "papermill": {
     "duration": 0.220417,
     "end_time": "2021-01-02T14:19:31.399793",
     "exception": false,
     "start_time": "2021-01-02T14:19:31.179376",
     "status": "completed"
    },
    "tags": []
   },
   "outputs": [],
   "source": [
    "load_dir = f\"/kaggle/input/{COMPETITION_NAME}/\"\n",
    "df = pd.read_csv(load_dir + 'train.csv')\n",
    "\n",
    "# paths = load_dir + \"train/\" + df['StudyInstanceUID'] + '.jpg'\n",
    "paths = GCS_DS_PATH + \"/train/\" + df['StudyInstanceUID'] + '.jpg'\n",
    "\n",
    "sub_df = pd.read_csv(load_dir + 'sample_submission.csv')\n",
    "\n",
    "# test_paths = load_dir + \"test/\" + sub_df['StudyInstanceUID'] + '.jpg'\n",
    "test_paths = GCS_DS_PATH + \"/test/\" + sub_df['StudyInstanceUID'] + '.jpg'\n",
    "\n",
    "# Get the multi-labels\n",
    "label_cols = sub_df.columns[1:]\n",
    "labels = df[label_cols].values"
   ]
  },
  {
   "cell_type": "code",
   "execution_count": 5,
   "metadata": {
    "execution": {
     "iopub.execute_input": "2021-01-02T14:19:31.425486Z",
     "iopub.status.busy": "2021-01-02T14:19:31.424764Z",
     "iopub.status.idle": "2021-01-02T14:19:31.435756Z",
     "shell.execute_reply": "2021-01-02T14:19:31.435160Z"
    },
    "papermill": {
     "duration": 0.026902,
     "end_time": "2021-01-02T14:19:31.435881",
     "exception": false,
     "start_time": "2021-01-02T14:19:31.408979",
     "status": "completed"
    },
    "tags": []
   },
   "outputs": [],
   "source": [
    "(\n",
    "    train_paths, valid_paths, \n",
    "    train_labels, valid_labels\n",
    ") = train_test_split(paths, labels, test_size=0.2, random_state=42)"
   ]
  },
  {
   "cell_type": "code",
   "execution_count": 6,
   "metadata": {
    "execution": {
     "iopub.execute_input": "2021-01-02T14:19:31.495659Z",
     "iopub.status.busy": "2021-01-02T14:19:31.494874Z",
     "iopub.status.idle": "2021-01-02T14:19:31.982062Z",
     "shell.execute_reply": "2021-01-02T14:19:31.981356Z"
    },
    "papermill": {
     "duration": 0.536916,
     "end_time": "2021-01-02T14:19:31.982177",
     "exception": false,
     "start_time": "2021-01-02T14:19:31.445261",
     "status": "completed"
    },
    "tags": []
   },
   "outputs": [],
   "source": [
    "IMSIZES = (224, 240, 260, 300, 380, 456, 528, 600)\n",
    "im_size = IMSIZES[7]\n",
    "\n",
    "decoder = build_decoder(with_labels=True, target_size=(im_size, im_size))\n",
    "test_decoder = build_decoder(with_labels=False, target_size=(im_size, im_size))\n",
    "\n",
    "train_dataset = build_dataset(\n",
    "    train_paths, train_labels, bsize=BATCH_SIZE, decode_fn=decoder\n",
    ")\n",
    "\n",
    "valid_dataset = build_dataset(\n",
    "    valid_paths, valid_labels, bsize=BATCH_SIZE, decode_fn=decoder,\n",
    "    repeat=False, shuffle=False, augment=False\n",
    ")\n",
    "\n",
    "test_dataset = build_dataset(\n",
    "    test_paths, cache=False, bsize=BATCH_SIZE, decode_fn=test_decoder,\n",
    "    repeat=False, shuffle=False, augment=False\n",
    ")"
   ]
  },
  {
   "cell_type": "code",
   "execution_count": 7,
   "metadata": {
    "execution": {
     "iopub.execute_input": "2021-01-02T14:19:32.011456Z",
     "iopub.status.busy": "2021-01-02T14:19:32.010721Z",
     "iopub.status.idle": "2021-01-02T14:20:09.661769Z",
     "shell.execute_reply": "2021-01-02T14:20:09.662421Z"
    },
    "papermill": {
     "duration": 37.670652,
     "end_time": "2021-01-02T14:20:09.662577",
     "exception": false,
     "start_time": "2021-01-02T14:19:31.991925",
     "status": "completed"
    },
    "tags": []
   },
   "outputs": [
    {
     "name": "stdout",
     "output_type": "stream",
     "text": [
      "Downloading data from https://storage.googleapis.com/tensorflow/keras-applications/inception_v3/inception_v3_weights_tf_dim_ordering_tf_kernels_notop.h5\n",
      "87916544/87910968 [==============================] - 3s 0us/step\n",
      "Model: \"sequential\"\n",
      "_________________________________________________________________\n",
      "Layer (type)                 Output Shape              Param #   \n",
      "=================================================================\n",
      "inception_v3 (Model)         (None, 17, 17, 2048)      21802784  \n",
      "_________________________________________________________________\n",
      "global_average_pooling2d (Gl (None, 2048)              0         \n",
      "_________________________________________________________________\n",
      "dense (Dense)                (None, 11)                22539     \n",
      "=================================================================\n",
      "Total params: 21,825,323\n",
      "Trainable params: 21,790,891\n",
      "Non-trainable params: 34,432\n",
      "_________________________________________________________________\n"
     ]
    }
   ],
   "source": [
    "n_labels = labels.shape[1]\n",
    "\n",
    "with strategy.scope():\n",
    "    model = tf.keras.Sequential([\n",
    "        tf.keras.applications.InceptionV3(\n",
    "            input_shape=(im_size, im_size, 3),\n",
    "            weights='imagenet',\n",
    "            include_top=False),\n",
    "        tf.keras.layers.GlobalAveragePooling2D(),\n",
    "        tf.keras.layers.Dense(n_labels, activation='sigmoid')\n",
    "    ])\n",
    "    model.compile(\n",
    "        optimizer=tf.keras.optimizers.Adam(),\n",
    "        loss='binary_crossentropy',\n",
    "        metrics=[tf.keras.metrics.AUC(multi_label=True)])\n",
    "    model.summary()"
   ]
  },
  {
   "cell_type": "code",
   "execution_count": 8,
   "metadata": {
    "execution": {
     "iopub.execute_input": "2021-01-02T14:20:09.702146Z",
     "iopub.status.busy": "2021-01-02T14:20:09.701486Z",
     "iopub.status.idle": "2021-01-02T14:20:09.704774Z",
     "shell.execute_reply": "2021-01-02T14:20:09.704109Z"
    },
    "papermill": {
     "duration": 0.026155,
     "end_time": "2021-01-02T14:20:09.704883",
     "exception": false,
     "start_time": "2021-01-02T14:20:09.678728",
     "status": "completed"
    },
    "tags": []
   },
   "outputs": [],
   "source": [
    "steps_per_epoch = train_paths.shape[0] // BATCH_SIZE\n",
    "checkpoint = tf.keras.callbacks.ModelCheckpoint(\n",
    "    'model.h5', save_best_only=True, monitor='val_auc', mode='max')\n",
    "lr_reducer = tf.keras.callbacks.ReduceLROnPlateau(\n",
    "    monitor=\"val_auc\", patience=3, min_lr=1e-7, mode='max')"
   ]
  },
  {
   "cell_type": "code",
   "execution_count": 9,
   "metadata": {
    "execution": {
     "iopub.execute_input": "2021-01-02T14:20:09.748778Z",
     "iopub.status.busy": "2021-01-02T14:20:09.743209Z",
     "iopub.status.idle": "2021-01-02T15:09:25.014617Z",
     "shell.execute_reply": "2021-01-02T15:09:25.015168Z"
    },
    "papermill": {
     "duration": 2955.295522,
     "end_time": "2021-01-02T15:09:25.015369",
     "exception": false,
     "start_time": "2021-01-02T14:20:09.719847",
     "status": "completed"
    },
    "tags": []
   },
   "outputs": [
    {
     "name": "stdout",
     "output_type": "stream",
     "text": [
      "Epoch 1/20\n",
      "188/188 - 1020s - auc: 0.7897 - loss: 0.2327 - val_auc: 0.7744 - val_loss: 0.2360 - lr: 0.0010\n",
      "Epoch 2/20\n",
      "188/188 - 108s - auc: 0.8502 - loss: 0.2013 - val_auc: 0.7795 - val_loss: 0.4325 - lr: 0.0010\n",
      "Epoch 3/20\n",
      "188/188 - 107s - auc: 0.8756 - loss: 0.1863 - val_auc: 0.8208 - val_loss: 0.2721 - lr: 0.0010\n",
      "Epoch 4/20\n",
      "188/188 - 104s - auc: 0.8954 - loss: 0.1751 - val_auc: 0.8862 - val_loss: 0.2024 - lr: 0.0010\n",
      "Epoch 5/20\n",
      "188/188 - 97s - auc: 0.9069 - loss: 0.1676 - val_auc: 0.8932 - val_loss: 0.1964 - lr: 0.0010\n",
      "Epoch 6/20\n",
      "188/188 - 91s - auc: 0.9172 - loss: 0.1598 - val_auc: 0.9048 - val_loss: 0.1847 - lr: 0.0010\n",
      "Epoch 7/20\n",
      "188/188 - 89s - auc: 0.9215 - loss: 0.1541 - val_auc: 0.8423 - val_loss: 0.2452 - lr: 0.0010\n",
      "Epoch 8/20\n",
      "188/188 - 94s - auc: 0.9311 - loss: 0.1484 - val_auc: 0.9070 - val_loss: 0.1767 - lr: 0.0010\n",
      "Epoch 9/20\n",
      "188/188 - 90s - auc: 0.9352 - loss: 0.1445 - val_auc: 0.9208 - val_loss: 0.1709 - lr: 0.0010\n",
      "Epoch 10/20\n",
      "188/188 - 91s - auc: 0.9374 - loss: 0.1400 - val_auc: 0.9270 - val_loss: 0.1622 - lr: 0.0010\n",
      "Epoch 11/20\n",
      "188/188 - 87s - auc: 0.9453 - loss: 0.1353 - val_auc: 0.9133 - val_loss: 0.1764 - lr: 0.0010\n",
      "Epoch 12/20\n",
      "188/188 - 92s - auc: 0.9468 - loss: 0.1306 - val_auc: 0.9009 - val_loss: 0.1792 - lr: 0.0010\n",
      "Epoch 13/20\n",
      "188/188 - 91s - auc: 0.9488 - loss: 0.1267 - val_auc: 0.9144 - val_loss: 0.1811 - lr: 0.0010\n",
      "Epoch 14/20\n",
      "188/188 - 96s - auc: 0.9642 - loss: 0.1081 - val_auc: 0.9434 - val_loss: 0.1377 - lr: 1.0000e-04\n",
      "Epoch 15/20\n",
      "188/188 - 87s - auc: 0.9699 - loss: 0.1007 - val_auc: 0.9420 - val_loss: 0.1380 - lr: 1.0000e-04\n",
      "Epoch 16/20\n",
      "188/188 - 94s - auc: 0.9736 - loss: 0.0946 - val_auc: 0.9405 - val_loss: 0.1413 - lr: 1.0000e-04\n",
      "Epoch 17/20\n",
      "188/188 - 89s - auc: 0.9746 - loss: 0.0911 - val_auc: 0.9412 - val_loss: 0.1419 - lr: 1.0000e-04\n",
      "Epoch 18/20\n",
      "188/188 - 92s - auc: 0.9780 - loss: 0.0853 - val_auc: 0.9396 - val_loss: 0.1439 - lr: 1.0000e-05\n",
      "Epoch 19/20\n",
      "188/188 - 90s - auc: 0.9767 - loss: 0.0840 - val_auc: 0.9395 - val_loss: 0.1447 - lr: 1.0000e-05\n",
      "Epoch 20/20\n",
      "188/188 - 92s - auc: 0.9771 - loss: 0.0831 - val_auc: 0.9391 - val_loss: 0.1454 - lr: 1.0000e-05\n"
     ]
    }
   ],
   "source": [
    "history = model.fit(\n",
    "    train_dataset, \n",
    "    epochs=20,\n",
    "    verbose=2,\n",
    "    callbacks=[checkpoint, lr_reducer],\n",
    "    steps_per_epoch=steps_per_epoch,\n",
    "    validation_data=valid_dataset)"
   ]
  },
  {
   "cell_type": "code",
   "execution_count": 10,
   "metadata": {
    "execution": {
     "iopub.execute_input": "2021-01-02T15:09:25.089599Z",
     "iopub.status.busy": "2021-01-02T15:09:25.088444Z",
     "iopub.status.idle": "2021-01-02T15:09:25.168088Z",
     "shell.execute_reply": "2021-01-02T15:09:25.169237Z"
    },
    "papermill": {
     "duration": 0.125397,
     "end_time": "2021-01-02T15:09:25.169504",
     "exception": false,
     "start_time": "2021-01-02T15:09:25.044107",
     "status": "completed"
    },
    "tags": []
   },
   "outputs": [],
   "source": [
    "hist_df = pd.DataFrame(history.history)\n",
    "hist_df.to_csv('history.csv')"
   ]
  },
  {
   "cell_type": "code",
   "execution_count": null,
   "metadata": {
    "papermill": {
     "duration": 0.029577,
     "end_time": "2021-01-02T15:09:25.245493",
     "exception": false,
     "start_time": "2021-01-02T15:09:25.215916",
     "status": "completed"
    },
    "tags": []
   },
   "outputs": [],
   "source": []
  }
 ],
 "metadata": {
  "kernelspec": {
   "display_name": "Python 3",
   "language": "python",
   "name": "python3"
  },
  "language_info": {
   "codemirror_mode": {
    "name": "ipython",
    "version": 3
   },
   "file_extension": ".py",
   "mimetype": "text/x-python",
   "name": "python",
   "nbconvert_exporter": "python",
   "pygments_lexer": "ipython3",
   "version": "3.7.6"
  },
  "papermill": {
   "duration": 3011.711939,
   "end_time": "2021-01-02T15:09:25.382855",
   "environment_variables": {},
   "exception": null,
   "input_path": "__notebook__.ipynb",
   "output_path": "__notebook__.ipynb",
   "parameters": {},
   "start_time": "2021-01-02T14:19:13.670916",
   "version": "2.1.0"
  }
 },
 "nbformat": 4,
 "nbformat_minor": 4
}
